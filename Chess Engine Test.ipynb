{
 "cells": [
  {
   "cell_type": "code",
   "execution_count": 1,
   "metadata": {},
   "outputs": [
    {
     "name": "stdout",
     "output_type": "stream",
     "text": [
      "d2d4\n",
      "Variable containing:\n",
      "-2.4400\n",
      "[torch.cuda.FloatTensor of size 1 (GPU 0)]\n",
      "\n"
     ]
    }
   ],
   "source": [
    "import models\n",
    "import torch\n",
    "import chess\n",
    "import chess_engine\n",
    "\n",
    "m = models.create('ChessEngine.v0')\n",
    "m.load_state_dict(torch.load('saved_models/2018-01-08/ChessEngine_2018-01-09_22:26:13_11.model'))\n",
    "e = chess_engine.ChessEngine(m)\n",
    "b = chess.Board() \n",
    "move, log_prob = e.get_move(b)\n",
    "print(move)\n",
    "print(log_prob)"
   ]
  },
  {
   "cell_type": "code",
   "execution_count": 2,
   "metadata": {},
   "outputs": [
    {
     "name": "stdout",
     "output_type": "stream",
     "text": [
      "(0, Variable containing:\n",
      " 0\n",
      "[torch.cuda.FloatTensor of size 1 (GPU 0)]\n",
      ")\n",
      "(-1, Variable containing:\n",
      "-86.4425\n",
      "[torch.cuda.FloatTensor of size 1 (GPU 0)]\n",
      ")\n"
     ]
    }
   ],
   "source": [
    "import reinforce_trainer\n",
    "\n",
    "t = reinforce_trainer.ReinforceTrainer()\n",
    "print(t.self_play(\n",
    "    chess_engine.ChessEngine(m), \n",
    "    chess_engine.ChessEngine(m, train=False),\n",
    "    chess.WHITE\n",
    "))\n",
    "print(t.self_play(\n",
    "    chess_engine.ChessEngine(m), \n",
    "    chess_engine.ChessEngine(m, train=False),\n",
    "    chess.BLACK\n",
    "))"
   ]
  },
  {
   "cell_type": "code",
   "execution_count": null,
   "metadata": {},
   "outputs": [],
   "source": []
  }
 ],
 "metadata": {
  "kernelspec": {
   "display_name": "Python 3",
   "language": "python",
   "name": "python3"
  },
  "language_info": {
   "codemirror_mode": {
    "name": "ipython",
    "version": 3
   },
   "file_extension": ".py",
   "mimetype": "text/x-python",
   "name": "python",
   "nbconvert_exporter": "python",
   "pygments_lexer": "ipython3",
   "version": "3.6.3"
  }
 },
 "nbformat": 4,
 "nbformat_minor": 2
}
